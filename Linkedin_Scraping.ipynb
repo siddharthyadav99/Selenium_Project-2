{
 "cells": [
  {
   "cell_type": "code",
   "execution_count": 5,
   "metadata": {},
   "outputs": [
    {
     "name": "stdout",
     "output_type": "stream",
     "text": [
      "Marketing Data Analyst\n",
      "Senior Marketing Data Analyst\n",
      "Data Analyst\n",
      "Business Data Analyst\n",
      "Digital Data Business Analyst\n",
      "Data Analyst - EU Marketing\n",
      "Senior Data Analyst - Marketing (d/f/m)\n"
     ]
    }
   ],
   "source": [
    "from selenium import webdriver\n",
    "from selenium.webdriver.chrome.service import Service\n",
    "from selenium.webdriver.common.by import By\n",
    "from selenium.webdriver.common.keys import Keys\n",
    "import time\n",
    "\n",
    "# Set up WebDriver\n",
    "s = Service(\"D:/VS Code/web scraping/Selenium/chromedriver-win64 (1)/chromedriver-win64/chromedriver.exe\")\n",
    "driver = webdriver.Chrome(service=s)\n",
    "\n",
    "# Open LinkedIn and log in\n",
    "driver.get(\"https://www.linkedin.com/login?fromSignIn=true&trk=guest_homepage-basic_nav-header-signin\")\n",
    "driver.maximize_window()\n",
    "time.sleep(4)\n",
    "\n",
    "# Log in credentials\n",
    "username = driver.find_element(By.XPATH, '''//input[@id='username']''')\n",
    "username.send_keys(\"Provide your Username here\")\n",
    "time.sleep(2)\n",
    "\n",
    "password = driver.find_element(By.XPATH, '''//input[@id='password']''')\n",
    "password.send_keys(\"Provide your Password here\")\n",
    "time.sleep(2)\n",
    "\n",
    "sign_in = driver.find_element(By.XPATH, '''//button[@class='btn__primary--large from__button--floating' and @aria-label='Sign in']''')\n",
    "sign_in.click()\n",
    "time.sleep(3)\n",
    "\n",
    "# Search for jobs\n",
    "search = driver.find_element(By.XPATH, '''//input[@aria-label ='Search']''')\n",
    "search.send_keys('', Keys.ENTER)\n",
    "time.sleep(3)\n",
    "\n",
    "jobs = driver.find_element(By.XPATH, '''//*[@id=\"search-reusables__filters-bar\"]/ul/li[4]/button''')\n",
    "jobs.click()\n",
    "time.sleep(3)\n",
    "\n",
    "# Enter job title and location\n",
    "skill = driver.find_element(By.XPATH, '''/html/body/div[6]/header/div/div/div/div[2]/div[1]/div/div/input[1]''')\n",
    "skill.send_keys(\"Marketing Data Analyst\")\n",
    "time.sleep(3)\n",
    "\n",
    "location = driver.find_element(By.XPATH, '''/html/body/div[6]/header/div/div/div/div[2]/div[2]/div/div/input[1]''')\n",
    "location.clear()\n",
    "location.send_keys(\"Berlin\")\n",
    "time.sleep(3)\n",
    "\n",
    "search2 = driver.find_element(By.XPATH, '''/html/body/div[6]/header/div/div/div/div[2]/button[1]''')\n",
    "search2.click()\n",
    "time.sleep(2)\n",
    "\n",
    "job_elements = driver.find_elements(By.XPATH, \"//div[contains(@class, 'artdeco-entity-lockup__content')]//span[contains(@aria-hidden, 'true')]\")\n",
    "\n",
    "for job in job_elements:\n",
    "    driver.execute_script(\"arguments[0].scrollIntoView();\",job)    \n",
    "    time.sleep(3)\n",
    "    print(job.text)    "
   ]
  }
 ],
 "metadata": {
  "kernelspec": {
   "display_name": "Python 3",
   "language": "python",
   "name": "python3"
  },
  "language_info": {
   "codemirror_mode": {
    "name": "ipython",
    "version": 3
   },
   "file_extension": ".py",
   "mimetype": "text/x-python",
   "name": "python",
   "nbconvert_exporter": "python",
   "pygments_lexer": "ipython3",
   "version": "3.11.4"
  }
 },
 "nbformat": 4,
 "nbformat_minor": 2
}
